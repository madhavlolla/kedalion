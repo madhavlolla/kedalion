{
 "cells": [
  {
   "cell_type": "raw",
   "id": "a50b8022-33e1-4cc9-8d60-f561af42660d",
   "metadata": {},
   "source": [
    "High-pass filter is used in EEG data preprocessing to remove low-frequency noise and artifacts from the signal, while preserving higher frequency components of interest. This can be useful for removing slow drifts in the signal, such as those caused by respiration or changes in electrode impedance.\n",
    "\n",
    "# Apply a high-pass filter to remove low-frequency noise and artifacts\n",
    "high_freq_cutoff = 0.5  # Cutoff frequency for the high-pass filter (adjust as needed)\n",
    "filtered_data = remove_low_frequencies(eeg_data, sfreq, high_freq_cutoff)\n",
    "\n",
    "In the above code, a high-pass filter is first applied to remove low-frequency noise and artifacts from the EEG data using the remove_low_frequencies function. The high_freq_cutoff parameter determines the cutoff frequency for the high-pass filter. Adjust this value according to your specific needs."
   ]
  },
  {
   "cell_type": "raw",
   "id": "9ffe6e70-2999-4fef-abb0-faa9c03118a6",
   "metadata": {},
   "source": [
    "A notch filter is commonly used in EEG data preprocessing to remove electrical noise at specific frequencies, such as powerline interference (e.g., 50 Hz or 60 Hz)."
   ]
  },
  {
   "cell_type": "raw",
   "id": "a9a1aebf-9d50-40bf-8fb4-4aa9a2653eae",
   "metadata": {},
   "source": [
    "A low-pass filter is used in EEG data preprocessing to remove high-frequency noise and artifacts from the signal, while preserving lower frequency components of interest. This can be useful for removing muscle artifacts, high-frequency electrical noise, and other sources of high-frequency interference.\n",
    "\n",
    "# Apply a low-pass filter to remove high-frequency noise and artifacts\n",
    "low_freq_cutoff = 30.0  # Cutoff frequency for the low-pass filter (adjust as needed)\n",
    "filtered_data = remove_high_frequencies(filtered_data, sfreq, low_freq_cutoff)\n",
    "\n",
    "low-pass filter is applied to remove high-frequency noise and artifacts from the filtered data using the remove_high_frequencies function. The low_freq_cutoff parameter determines the cutoff frequency for the low-pass filter. Again, adjust this value as per your requirements."
   ]
  },
  {
   "cell_type": "code",
   "execution_count": null,
   "id": "4e7c1998-434c-4f42-9255-ef8479017920",
   "metadata": {},
   "outputs": [],
   "source": [
    "channels = ['Fp1', 'Fp2', 'F3', 'F4', 'C3', 'C4', 'P3', 'P4']\n",
    "\n",
    "def resample_epoch(epoch_data, original_sfreq, target_sfreq):\n",
    "    \"\"\"\n",
    "    Resample a single epoch of EEG data from the original sampling frequency to a target sampling frequency.\n",
    "\n",
    "    Args:\n",
    "        epoch_data (ndarray): Array containing the EEG data for a single epoch.\n",
    "        original_sfreq (float): Original sampling frequency of the epoch data.\n",
    "        target_sfreq (float): Target sampling frequency for resampling.\n",
    "\n",
    "    Returns:\n",
    "        ndarray: Resampled EEG data.\n",
    "    \"\"\"\n",
    "    original_num_samples = epoch_data.shape[0]\n",
    "    original_time = np.arange(original_num_samples) / original_sfreq\n",
    "\n",
    "    target_num_samples = int(original_num_samples * target_sfreq / original_sfreq)\n",
    "    target_time = np.linspace(0, original_time[-1], target_num_samples)\n",
    "\n",
    "    resampled_data = signal.resample(epoch_data, target_num_samples, axis=0)\n",
    "\n",
    "    return resampled_data"
   ]
  },
  {
   "cell_type": "code",
   "execution_count": null,
   "id": "ed9f3288-30d7-4437-bc3b-e25cb5479995",
   "metadata": {},
   "outputs": [],
   "source": [
    "import numpy as np\n",
    "from scipy import signal\n",
    "from mne.preprocessing import ICA\n",
    "\n",
    "class Preprocess:\n",
    "    def __init__(self, sfreq, ica_components=8, low_freq_cutoff=1, high_freq_cutoff=30, notch_freq=60, target_sfreq=100, channels = ['Fp1', 'Fp2', 'F3', 'F4', 'C3', 'C4', 'P3', 'P4']):\n",
    "        self.sfreq = sfreq\n",
    "        self.ica_components = ica_components\n",
    "        self.low_freq_cutoff = low_freq_cutoff\n",
    "        self.high_freq_cutoff = high_freq_cutoff\n",
    "        self.notch_freq = notch_freq\n",
    "        self.target_sfreq = target_sfreq\n",
    "        self.channels = channels\n",
    "        self.ica = None\n",
    "        \n",
    "    def resample_epoch(self, epoch_data, available_channels=['Fp1', 'Fp2', 'F3', 'F4', 'C3', 'C4', 'P3', 'P4']):\n",
    "        original_sfreq = self.sfreq\n",
    "        target_sfreq = self.target_sfreq\n",
    "        original_num_samples, num_channels = epoch_data.shape\n",
    "\n",
    "        # Check if all the specified channels are present in the available channels\n",
    "        missing_channels = set(self.channels) - set(available_channels)\n",
    "        if missing_channels:\n",
    "            raise ValueError(\"The following channels are not available in the data: {}\".format(\", \".join(missing_channels)))\n",
    "\n",
    "        channel_indices = [available_channels.index(channel) for channel in self.channels]\n",
    "        selected_epoch_data = epoch_data[:, channel_indices]\n",
    "\n",
    "        target_num_samples = int(original_num_samples * target_sfreq / original_sfreq)\n",
    "        target_time = np.linspace(0, original_time[-1], target_num_samples)\n",
    "\n",
    "        resampled_data = signal.resample(selected_epoch_data, target_num_samples, axis=0)\n",
    "\n",
    "        return resampled_data\n",
    "\n",
    "\n",
    "    def remove_low_frequencies(self, eeg_epoch):\n",
    "        nyquist_freq = 0.5 * self.sfreq\n",
    "        high_freq_cutoff = self.low_freq_cutoff / nyquist_freq\n",
    "        b, a = signal.butter(4, high_freq_cutoff, btype='highpass')\n",
    "        filtered_epoch = signal.filtfilt(b, a, eeg_epoch, axis=1)\n",
    "        return filtered_epoch\n",
    "\n",
    "    def remove_high_frequencies(self, eeg_epoch):\n",
    "        nyquist_freq = 0.5 * self.sfreq\n",
    "        low_freq_cutoff = self.high_freq_cutoff / nyquist_freq\n",
    "        b, a = signal.butter(4, low_freq_cutoff, btype='lowpass')\n",
    "        filtered_data = signal.filtfilt(b, a, eeg_epoch, axis=1)\n",
    "        return filtered_data\n",
    "\n",
    "    def remove_notch_noise(self, eeg_epoch):\n",
    "        nyquist_freq = 0.5 * self.sfreq\n",
    "        notch_bandwidth = 1.0  # Width of the notch filter band (adjust as needed)\n",
    "        notch_freq_norm = self.notch_freq / nyquist_freq\n",
    "        b, a = signal.iirnotch(notch_freq_norm, notch_bandwidth)\n",
    "        filtered_data = signal.filtfilt(b, a, eeg_epoch, axis=1)\n",
    "        return filtered_data\n",
    "\n",
    "    def apply_ica(self, eeg_epoch):\n",
    "        if self.ica is None:\n",
    "            self.ica = ICA(n_components=self.ica_components, random_state=0)\n",
    "            self.ica.fit(eeg_epoch)\n",
    "        cleaned_data = self.ica.apply(eeg_epoch)\n",
    "        return cleaned_data\n",
    "\n",
    "    def apply_average_reference_epoch(self, epoch_data):\n",
    "        average_reference = np.mean(epoch_data, axis=0)\n",
    "        referenced_epoch_data = epoch_data - average_reference\n",
    "        return referenced_epoch_data\n",
    "\n",
    "    "
   ]
  },
  {
   "cell_type": "code",
   "execution_count": 3,
   "id": "01a51a60-e900-4836-8dd4-88b5c7f0b59e",
   "metadata": {},
   "outputs": [
    {
     "ename": "ValueError",
     "evalue": "The following channels are not available in the data: P4",
     "output_type": "error",
     "traceback": [
      "\u001b[0;31m---------------------------------------------------------------------------\u001b[0m",
      "\u001b[0;31mValueError\u001b[0m                                Traceback (most recent call last)",
      "Cell \u001b[0;32mIn [3], line 5\u001b[0m\n\u001b[1;32m      3\u001b[0m missing_channels \u001b[38;5;241m=\u001b[39m \u001b[38;5;28mset\u001b[39m(channels) \u001b[38;5;241m-\u001b[39m \u001b[38;5;28mset\u001b[39m(available_channels)\n\u001b[1;32m      4\u001b[0m \u001b[38;5;28;01mif\u001b[39;00m missing_channels:\n\u001b[0;32m----> 5\u001b[0m     \u001b[38;5;28;01mraise\u001b[39;00m \u001b[38;5;167;01mValueError\u001b[39;00m(\u001b[38;5;124m\"\u001b[39m\u001b[38;5;124mThe following channels are not available in the data: \u001b[39m\u001b[38;5;132;01m{}\u001b[39;00m\u001b[38;5;124m\"\u001b[39m\u001b[38;5;241m.\u001b[39mformat(\u001b[38;5;124m\"\u001b[39m\u001b[38;5;124m, \u001b[39m\u001b[38;5;124m\"\u001b[39m\u001b[38;5;241m.\u001b[39mjoin(missing_channels)))\n",
      "\u001b[0;31mValueError\u001b[0m: The following channels are not available in the data: P4"
     ]
    }
   ],
   "source": [
    "available_channels = ['Fp1', 'Fp2', 'F3', 'F4', 'C3', 'C4', 'P3','P4', ]\n",
    "channels = ['Fp1', 'Fp2', 'F3', 'F4', 'C3', 'C4', 'P3', 'P4']\n",
    "missing_channels = set(channels) - set(available_channels)\n",
    "if missing_channels:\n",
    "    raise ValueError(\"The following channels are not available in the data: {}\".format(\", \".join(missing_channels)))"
   ]
  },
  {
   "cell_type": "code",
   "execution_count": null,
   "id": "b73708e6-5834-4618-a584-a5fc1548e8b3",
   "metadata": {},
   "outputs": [],
   "source": []
  }
 ],
 "metadata": {
  "kernelspec": {
   "display_name": "Python 3 (ipykernel)",
   "language": "python",
   "name": "python3"
  },
  "language_info": {
   "codemirror_mode": {
    "name": "ipython",
    "version": 3
   },
   "file_extension": ".py",
   "mimetype": "text/x-python",
   "name": "python",
   "nbconvert_exporter": "python",
   "pygments_lexer": "ipython3",
   "version": "3.9.12"
  }
 },
 "nbformat": 4,
 "nbformat_minor": 5
}
