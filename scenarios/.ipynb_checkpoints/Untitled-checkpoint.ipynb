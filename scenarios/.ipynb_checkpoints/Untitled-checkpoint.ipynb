{
 "cells": [
  {
   "cell_type": "code",
   "execution_count": 1,
   "id": "70a0755d-1b13-4fcd-ac6f-23e14d243323",
   "metadata": {},
   "outputs": [],
   "source": []
  },
  {
   "cell_type": "code",
   "execution_count": 2,
   "id": "da80745f-011e-4906-889e-3cab1707fef0",
   "metadata": {
    "tags": []
   },
   "outputs": [
    {
     "ename": "KeyboardInterrupt",
     "evalue": "",
     "output_type": "error",
     "traceback": [
      "\u001b[0;31m---------------------------------------------------------------------------\u001b[0m",
      "\u001b[0;31mKeyboardInterrupt\u001b[0m                         Traceback (most recent call last)",
      "Cell \u001b[0;32mIn[2], line 24\u001b[0m\n\u001b[1;32m     21\u001b[0m outlet\u001b[38;5;241m.\u001b[39mpush_sample(data)\n\u001b[1;32m     23\u001b[0m \u001b[38;5;66;03m# Wait for a short time to simulate real-time streaming\u001b[39;00m\n\u001b[0;32m---> 24\u001b[0m \u001b[43mtime\u001b[49m\u001b[38;5;241;43m.\u001b[39;49m\u001b[43msleep\u001b[49m\u001b[43m(\u001b[49m\u001b[38;5;241;43m1.0\u001b[39;49m\u001b[43m \u001b[49m\u001b[38;5;241;43m/\u001b[39;49m\u001b[43m \u001b[49m\u001b[43msampling_rate\u001b[49m\u001b[43m)\u001b[49m\n",
      "\u001b[0;31mKeyboardInterrupt\u001b[0m: "
     ]
    }
   ],
   "source": [
    "import random\n",
    "import time\n",
    "from pylsl import StreamInfo, StreamOutlet\n",
    "\n",
    "# Define the stream properties\n",
    "stream_name = 'MockStream'\n",
    "stream_type = 'EEG'\n",
    "channel_count = 24\n",
    "sampling_rate = 300\n",
    "\n",
    "# Create a stream outlet\n",
    "info = StreamInfo(stream_name, stream_type, channel_count, sampling_rate, 'float32', 'myuid12345')\n",
    "outlet = StreamOutlet(info)\n",
    "\n",
    "# Generate and publish mock data\n",
    "while True:\n",
    "    # Generate a random sample of data\n",
    "    data = [random.random() for _ in range(channel_count)]\n",
    "\n",
    "    # Publish the data through the outlet\n",
    "    outlet.push_sample(data)\n",
    "\n",
    "    # Wait for a short time to simulate real-time streaming\n",
    "    time.sleep(1.0 / sampling_rate)"
   ]
  },
  {
   "cell_type": "raw",
   "id": "22c63692-c3d8-4a2c-9a00-9114cb694f46",
   "metadata": {},
   "source": [
    "Mock script to continuously generate random data samples and publish them through the LSL stream. Other applications or scripts can then connect to the LSL stream and receive the mock data as if it were coming from a real signal source."
   ]
  },
  {
   "cell_type": "code",
   "execution_count": null,
   "id": "3fe08e75-32aa-4fec-a699-3f1895573377",
   "metadata": {},
   "outputs": [
    {
     "name": "stderr",
     "output_type": "stream",
     "text": [
      "Exception in thread Thread-5:\n",
      "Traceback (most recent call last):\n",
      "  File \"/home/madhav/anaconda3/envs/kedalion_py39/lib/python3.9/threading.py\", line 980, in _bootstrap_inner\n",
      "    self.run()\n",
      "  File \"/home/madhav/Desktop/bci/kedalion/BciPy/bcipy/acquisition/protocols/lsl/lsl_recorder.py\", line 202, in run\n",
      "    self._init_data_writer(full_metadata)\n",
      "  File \"/home/madhav/Desktop/bci/kedalion/BciPy/bcipy/acquisition/protocols/lsl/lsl_recorder.py\", line 125, in _init_data_writer\n",
      "    check_device(self.device_spec, stream_info)\n",
      "  File \"/home/madhav/Desktop/bci/kedalion/BciPy/bcipy/acquisition/protocols/lsl/lsl_connector.py\", line 79, in check_device\n",
      "    assert device_spec.channel_count == metadata.channel_count(\n",
      "AssertionError: Channel count error\n"
     ]
    }
   ],
   "source": [
    "import time\n",
    "\n",
    "from bcipy.acquisition import LslAcquisitionClient\n",
    "client = LslAcquisitionClient(max_buffer_len=1, save_directory='.')\n",
    "try:\n",
    "    seconds = 3\n",
    "    client.start_acquisition()\n",
    "\n",
    "    print(\n",
    "        f\"\\nCollecting data for {seconds}s... (Interrupt [Ctl-C] to stop)\\n\"\n",
    "    )\n",
    "    time.sleep(seconds)\n",
    "    samples = client.get_latest_data()\n",
    "    print(f\"Last sample:\\n{samples[-1]}\")\n",
    "    print(f\"Data written to: {client.recorder.filename}\")\n",
    "    client.stop_acquisition()\n",
    "\n",
    "except IOError as err:\n",
    "    print(f'{err.strerror}; make sure you started the server.')\n",
    "except KeyboardInterrupt:\n",
    "    print(\"Keyboard Interrupt\")"
   ]
  },
  {
   "cell_type": "code",
   "execution_count": null,
   "id": "089ff7a1-63e2-4b64-b304-11fa44d7cca8",
   "metadata": {},
   "outputs": [],
   "source": []
  }
 ],
 "metadata": {
  "kernelspec": {
   "display_name": "kedalion_py39",
   "language": "python",
   "name": "kedalion_py39"
  },
  "language_info": {
   "codemirror_mode": {
    "name": "ipython",
    "version": 3
   },
   "file_extension": ".py",
   "mimetype": "text/x-python",
   "name": "python",
   "nbconvert_exporter": "python",
   "pygments_lexer": "ipython3",
   "version": "3.9.16"
  }
 },
 "nbformat": 4,
 "nbformat_minor": 5
}
