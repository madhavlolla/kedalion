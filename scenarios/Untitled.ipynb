{
 "cells": [
  {
   "cell_type": "code",
   "execution_count": 1,
   "id": "70a0755d-1b13-4fcd-ac6f-23e14d243323",
   "metadata": {},
   "outputs": [],
   "source": []
  },
  {
   "cell_type": "code",
   "execution_count": 3,
   "id": "da80745f-011e-4906-889e-3cab1707fef0",
   "metadata": {
    "tags": []
   },
   "outputs": [
    {
     "ename": "KeyboardInterrupt",
     "evalue": "",
     "output_type": "error",
     "traceback": [
      "\u001b[0;31m---------------------------------------------------------------------------\u001b[0m",
      "\u001b[0;31mKeyboardInterrupt\u001b[0m                         Traceback (most recent call last)",
      "Cell \u001b[0;32mIn[3], line 24\u001b[0m\n\u001b[1;32m     21\u001b[0m outlet\u001b[38;5;241m.\u001b[39mpush_sample(data)\n\u001b[1;32m     23\u001b[0m \u001b[38;5;66;03m# Wait for a short time to simulate real-time streaming\u001b[39;00m\n\u001b[0;32m---> 24\u001b[0m \u001b[43mtime\u001b[49m\u001b[38;5;241;43m.\u001b[39;49m\u001b[43msleep\u001b[49m\u001b[43m(\u001b[49m\u001b[38;5;241;43m1.0\u001b[39;49m\u001b[43m \u001b[49m\u001b[38;5;241;43m/\u001b[39;49m\u001b[43m \u001b[49m\u001b[43msampling_rate\u001b[49m\u001b[43m)\u001b[49m\n",
      "\u001b[0;31mKeyboardInterrupt\u001b[0m: "
     ]
    }
   ],
   "source": [
    "import random\n",
    "import time\n",
    "from pylsl import StreamInfo, StreamOutlet\n",
    "\n",
    "# Define the stream properties\n",
    "stream_name = 'MockStream'\n",
    "stream_type = 'EEG'\n",
    "channel_count = 24\n",
    "sampling_rate = 300\n",
    "\n",
    "# Create a stream outlet\n",
    "info = StreamInfo(stream_name, stream_type, channel_count, sampling_rate, 'float32', 'myuid12345')\n",
    "outlet = StreamOutlet(info)\n",
    "\n",
    "# Generate and publish mock data\n",
    "while True:\n",
    "    # Generate a random sample of data\n",
    "    data = [random.random() for _ in range(channel_count)]\n",
    "\n",
    "    # Publish the data through the outlet\n",
    "    outlet.push_sample(data)\n",
    "\n",
    "    # Wait for a short time to simulate real-time streaming\n",
    "    time.sleep(1.0 / sampling_rate)"
   ]
  },
  {
   "cell_type": "raw",
   "id": "22c63692-c3d8-4a2c-9a00-9114cb694f46",
   "metadata": {},
   "source": [
    "Mock script to continuously generate random data samples and publish them through the LSL stream. Other applications or scripts can then connect to the LSL stream and receive the mock data as if it were coming from a real signal source."
   ]
  },
  {
   "cell_type": "code",
   "execution_count": null,
   "id": "3fe08e75-32aa-4fec-a699-3f1895573377",
   "metadata": {},
   "outputs": [
    {
     "name": "stderr",
     "output_type": "stream",
     "text": [
      "Exception in thread Thread-5:\n",
      "Traceback (most recent call last):\n",
      "  File \"/home/madhav/anaconda3/envs/kedalion_py39/lib/python3.9/threading.py\", line 980, in _bootstrap_inner\n",
      "    self.run()\n",
      "  File \"/home/madhav/Desktop/bci/kedalion/BciPy/bcipy/acquisition/protocols/lsl/lsl_recorder.py\", line 202, in run\n",
      "    self._init_data_writer(full_metadata)\n",
      "  File \"/home/madhav/Desktop/bci/kedalion/BciPy/bcipy/acquisition/protocols/lsl/lsl_recorder.py\", line 125, in _init_data_writer\n",
      "    check_device(self.device_spec, stream_info)\n",
      "  File \"/home/madhav/Desktop/bci/kedalion/BciPy/bcipy/acquisition/protocols/lsl/lsl_connector.py\", line 79, in check_device\n",
      "    assert device_spec.channel_count == metadata.channel_count(\n",
      "AssertionError: Channel count error\n"
     ]
    }
   ],
   "source": [
    "import time\n",
    "\n",
    "from bcipy.acquisition import LslAcquisitionClient\n",
    "client = LslAcquisitionClient(max_buffer_len=1, save_directory='.')\n",
    "try:\n",
    "    seconds = 3\n",
    "    client.start_acquisition()\n",
    "\n",
    "    print(\n",
    "        f\"\\nCollecting data for {seconds}s... (Interrupt [Ctl-C] to stop)\\n\"\n",
    "    )\n",
    "    time.sleep(seconds)\n",
    "    samples = client.get_latest_data()\n",
    "    print(f\"Last sample:\\n{samples[-1]}\")\n",
    "    print(f\"Data written to: {client.recorder.filename}\")\n",
    "    client.stop_acquisition()\n",
    "\n",
    "except IOError as err:\n",
    "    print(f'{err.strerror}; make sure you started the server.')\n",
    "except KeyboardInterrupt:\n",
    "    print(\"Keyboard Interrupt\")"
   ]
  },
  {
   "cell_type": "code",
   "execution_count": 1,
   "id": "089ff7a1-63e2-4b64-b304-11fa44d7cca8",
   "metadata": {},
   "outputs": [
    {
     "name": "stdout",
     "output_type": "stream",
     "text": [
      "connected to serial port /dev/cu.UN-20211209\n"
     ]
    },
    {
     "ename": "TypeError",
     "evalue": "__init__() missing 3 required positional arguments: 'name', 'channels', and 'sample_rate'",
     "output_type": "error",
     "traceback": [
      "\u001b[0;31m---------------------------------------------------------------------------\u001b[0m",
      "\u001b[0;31mTypeError\u001b[0m                                 Traceback (most recent call last)",
      "Cell \u001b[0;32mIn[1], line 32\u001b[0m\n\u001b[1;32m     29\u001b[0m lsl_format \u001b[38;5;241m=\u001b[39m \u001b[38;5;124m'\u001b[39m\u001b[38;5;124mfloat32\u001b[39m\u001b[38;5;124m'\u001b[39m\n\u001b[1;32m     30\u001b[0m lsl_id \u001b[38;5;241m=\u001b[39m \u001b[38;5;124m'\u001b[39m\u001b[38;5;124m'\u001b[39m\u001b[38;5;241m.\u001b[39mjoin(random\u001b[38;5;241m.\u001b[39mchoice(string\u001b[38;5;241m.\u001b[39mdigits) \u001b[38;5;28;01mfor\u001b[39;00m i \u001b[38;5;129;01min\u001b[39;00m \u001b[38;5;28mrange\u001b[39m(\u001b[38;5;241m6\u001b[39m))\n\u001b[0;32m---> 32\u001b[0m device_spec \u001b[38;5;241m=\u001b[39m \u001b[43mDeviceSpec\u001b[49m\u001b[43m(\u001b[49m\u001b[43m)\u001b[49m\n\u001b[1;32m     33\u001b[0m device_spec\u001b[38;5;241m.\u001b[39mname \u001b[38;5;241m=\u001b[39m lsl_name\n\u001b[1;32m     34\u001b[0m device_spec\u001b[38;5;241m.\u001b[39mcontent_type \u001b[38;5;241m=\u001b[39m lsl_type\n",
      "\u001b[0;31mTypeError\u001b[0m: __init__() missing 3 required positional arguments: 'name', 'channels', and 'sample_rate'"
     ]
    }
   ],
   "source": [
    "import struct\n",
    "import string\n",
    "import random\n",
    "import numpy as np\n",
    "\n",
    "from pylsl import StreamInfo, StreamOutlet\n",
    "from bcipy.acquisition.devices import DeviceSpec\n",
    "from bcipy.acquisition.datastream.lsl_server import LslDataServer\n",
    "\n",
    "device = '/dev/cu.UN-20211209'\n",
    "blocksize = 0.2\n",
    "timeout = 5\n",
    "nchan = 16\n",
    "fsample = 250\n",
    "\n",
    "# start_acq = [0x61, 0x7C, 0x87]\n",
    "# stop_acq = [0x63, 0x5C, 0xC5]\n",
    "# start_sequence = [0xC0, 0x00]\n",
    "# stop_sequence = [0x0D, 0x0A]\n",
    "\n",
    "try:\n",
    "    # s = serial.Serial(device, 115200, timeout=timeout)\n",
    "    print(\"connected to serial port \" + device)\n",
    "except:\n",
    "    raise RuntimeError(\"cannot connect to serial port \" + device)\n",
    "\n",
    "lsl_name = 'Unicorn'\n",
    "lsl_type = 'EEG'\n",
    "lsl_format = 'float32'\n",
    "lsl_id = ''.join(random.choice(string.digits) for i in range(6))\n",
    "\n",
    "device_spec = DeviceSpec(name = lsl_name, )\n",
    "device_spec.name = lsl_name\n",
    "device_spec.content_type = lsl_type\n",
    "device_spec.channel_count = nchan\n",
    "device_spec.sample_rate = fsample\n",
    "device_spec.data_type = lsl_format\n",
    "\n",
    "server = LslDataServer(device_spec=device_spec)\n",
    "\n",
    "try:\n",
    "    while True:\n",
    "        dat = np.zeros(nchan)\n",
    "        \n",
    "        #-----------------------READ WITH SERIAL-------------------------#\n",
    "        # read one block of data from the serial port\n",
    "        # payload = s.read(45)\n",
    "        \n",
    "        #------------------------BATTERY----------------------------------#\n",
    "        #battery = 100 * float(payload[2] & 0x0F) / 15\n",
    "        \n",
    "        \n",
    "        #------------------------VERIFY PACKET-------------------------#\n",
    "        # check the start and end bytes\n",
    "        # if payload[0:2] != b'\\xC0\\x00':\n",
    "        #     raise RuntimeError(\"invalid packet\")\n",
    "        # if payload[43:45] != b'\\x0D\\x0A':\n",
    "        #     raise RuntimeError(\"invalid packet\")\n",
    "        \n",
    "        #------------------------COLLECT EEG READING-------------------------#\n",
    "        #eeg = np.zeros(8)\n",
    "        #for ch in range(0, 8):\n",
    "            # unpack as a big-endian 32 bit signed integer\n",
    "            #eegv = struct.unpack('>i', b'\\x00' + payload[(3 + ch * 3):(6 + ch * 3)])[0]\n",
    "            # apply two’s complement to the 32-bit signed integral value if the sign bit is set\n",
    "            #if (eegv & 0x00800000):\n",
    "                #eegv = eegv | 0xFF000000\n",
    "            #eeg[ch] = float(eegv) * 4500000. / 50331642.\n",
    "            \n",
    "        #------------------------COLLECT ACCL READING-------------------------#\n",
    "        #accel = np.zeros(3)\n",
    "        # unpack as a little-endian 16 bit signed integer\n",
    "        #accel[0] = float(struct.unpack('<h', payload[27:29])[0]) / 4096.\n",
    "        #accel[1] = float(struct.unpack('<h', payload[29:31])[0]) / 4096.\n",
    "        #accel[2] = float(struct.unpack('<h', payload[31:33])[0]) / 4096.\n",
    "        \n",
    "        \n",
    "        #------------------------COLLECT GYRO READING-------------------------#\n",
    "        #gyro = np.zeros(3)\n",
    "        # unpack as a little-endian 16 bit signed integer\n",
    "        #gyro[0] = float(struct.unpack('<h', payload[33:35])[0]) / 32.8\n",
    "        #gyro[1] = float(struct.unpack('<h', payload[35:37])[0]) / 32.8\n",
    "        #gyro[2] = float(struct.unpack('<h', payload[37:39])[0]) / 32.8\n",
    "        \n",
    "        #------------------------PACKET COUNTER-------------------------------#\n",
    "        #counter = struct.unpack('<L', payload[39:43])[0]\n",
    "        \n",
    "        \n",
    "        #------------------------RANDOM GENERATOR------------------------------#\n",
    "        #mimicking unicorn \n",
    "        battery = random.uniform(0, 100)\n",
    "        eeg = np.random.randn(8)\n",
    "        accel = np.zeros(3)\n",
    "        gyro = np.zeros(3)\n",
    "        counter = random.randint(0, 1000)\n",
    "\n",
    "        # collect the data that will be sent to LSL\n",
    "        dat[0:8] = eeg\n",
    "        dat[8:11] = accel\n",
    "        dat[11:14] = gyro\n",
    "        dat[14] = battery\n",
    "        dat[15] = counter\n",
    "\n",
    "        # send the data to LSL\n",
    "        server.outlet.push_sample(dat)\n",
    "\n",
    "        if ((counter % fsample) == 0):\n",
    "            print('received %d samples, battery %d %%' % (counter, battery))\n",
    "\n",
    "except:\n",
    "    print('closing')\n",
    "    # s.write(stop_acq)\n",
    "    # s.close()\n",
    "    server.stop()\n"
   ]
  },
  {
   "cell_type": "code",
   "execution_count": null,
   "id": "3a83307f-305c-46fe-9436-d8fde993a7ea",
   "metadata": {},
   "outputs": [],
   "source": []
  }
 ],
 "metadata": {
  "kernelspec": {
   "display_name": "kedalion_py39",
   "language": "python",
   "name": "kedalion_py39"
  },
  "language_info": {
   "codemirror_mode": {
    "name": "ipython",
    "version": 3
   },
   "file_extension": ".py",
   "mimetype": "text/x-python",
   "name": "python",
   "nbconvert_exporter": "python",
   "pygments_lexer": "ipython3",
   "version": "3.9.16"
  }
 },
 "nbformat": 4,
 "nbformat_minor": 5
}
